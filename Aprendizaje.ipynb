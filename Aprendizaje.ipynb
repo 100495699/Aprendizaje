{
  "nbformat": 4,
  "nbformat_minor": 0,
  "metadata": {
    "colab": {
      "provenance": [],
      "include_colab_link": true
    },
    "kernelspec": {
      "name": "python3",
      "display_name": "Python 3"
    },
    "language_info": {
      "name": "python"
    }
  },
  "cells": [
    {
      "cell_type": "markdown",
      "metadata": {
        "id": "view-in-github",
        "colab_type": "text"
      },
      "source": [
        "<a href=\"https://colab.research.google.com/github/100495699/Aprendizaje/blob/main/Aprendizaje.ipynb\" target=\"_parent\"><img src=\"https://colab.research.google.com/assets/colab-badge.svg\" alt=\"Open In Colab\"/></a>"
      ]
    },
    {
      "cell_type": "markdown",
      "source": [
        "# EDA simplificado\n",
        "\n",
        "En esta seccion vamos a cargar y analizar el dataset para entender mejor su estructura. Identificaremos los diferentes campos, sus valores, valores faltantes, rangos y una matriz de dependencia. Además seleccionaremos los campos más importantes para el modelo de predicción de abandonos.\n",
        "\n",
        "Primero, importaremos todas las librerias necesarios. *Pandas* para leer el dataset, *sklearn* para el desarrollo de los modelos y *numpy* junto con *mathplotlib* para funciones adicionales."
      ],
      "metadata": {
        "id": "DdRrpkWLriwL"
      }
    },
    {
      "cell_type": "code",
      "execution_count": 1,
      "metadata": {
        "id": "hdr8kMgZyG80"
      },
      "outputs": [],
      "source": [
        "import pandas as pd\n",
        "import sklearn as sk\n",
        "import numpy as np\n",
        "import matplotlib.pyplot as plt"
      ]
    },
    {
      "cell_type": "markdown",
      "source": [
        "El primer paso será cargar el dataset con *pandas* y mostrar el numero de filas, columnas y el nombre de todas las columnas"
      ],
      "metadata": {
        "id": "UcoaDxoMuqiO"
      }
    },
    {
      "cell_type": "code",
      "source": [
        "dataset = pd.read_csv('attrition_availabledata_05.csv')\n",
        "num_filas, num_columnas = dataset.shape\n",
        "\n",
        "# Estructura del dataset\n",
        "print(f\"Número de filas: {num_filas}\")\n",
        "print(f\"Número de columnas: {num_columnas}\")\n",
        "# Ver nombres de todas las columnas\n",
        "print(\"Nombres de las columnas:\")\n",
        "print(dataset.columns.tolist())\n",
        "\n"
      ],
      "metadata": {
        "id": "mI51AWreuzGx",
        "outputId": "eecc1096-49f7-45b2-b3c3-4ed9a2b3376d",
        "colab": {
          "base_uri": "https://localhost:8080/"
        }
      },
      "execution_count": 12,
      "outputs": [
        {
          "output_type": "stream",
          "name": "stdout",
          "text": [
            "Número de filas: 2940\n",
            "Número de columnas: 31\n",
            "Nombres de las columnas:\n",
            "['hrs', 'absences', 'JobInvolvement', 'PerformanceRating', 'EnvironmentSatisfaction', 'JobSatisfaction', 'WorkLifeBalance', 'Age', 'BusinessTravel', 'Department', 'DistanceFromHome', 'Education', 'EducationField', 'EmployeeCount', 'EmployeeID', 'Gender', 'JobLevel', 'JobRole', 'MaritalStatus', 'MonthlyIncome', 'NumCompaniesWorked', 'Over18', 'PercentSalaryHike', 'StandardHours', 'StockOptionLevel', 'TotalWorkingYears', 'TrainingTimesLastYear', 'YearsAtCompany', 'YearsSinceLastPromotion', 'YearsWithCurrManager', 'Attrition']\n"
          ]
        }
      ]
    },
    {
      "cell_type": "markdown",
      "source": [
        "A continuación vemos los diferentes valores únicos que toman los diferentes registros para cada columna. De esta forma será más fácil ver el tipo de las variables (categóricas, ordinales onuméricas)"
      ],
      "metadata": {
        "id": "ug2p_JIr0XqU"
      }
    },
    {
      "cell_type": "code",
      "source": [
        "for col in dataset.columns:\n",
        "    valores_unicos = dataset[col].unique()\n",
        "    print(f\"Valores '{col}':{valores_unicos}\")\n"
      ],
      "metadata": {
        "id": "RoK6tUCP0Z3s",
        "outputId": "9d0fb899-260f-44be-980b-bad46736b685",
        "colab": {
          "base_uri": "https://localhost:8080/"
        }
      },
      "execution_count": 15,
      "outputs": [
        {
          "output_type": "stream",
          "name": "stdout",
          "text": [
            "Valores 'hrs':[6.61262494 6.02681504 6.96645582 ... 6.59509148 7.38075747 6.45303882]\n",
            "Valores 'absences':[18 11 12 10 14 15  2 17 23 22  8  4  5  9  6 21  3  7 19 16 20 13 24  1]\n",
            "Valores 'JobInvolvement':[4 3 2 1]\n",
            "Valores 'PerformanceRating':[3 4]\n",
            "Valores 'EnvironmentSatisfaction':[ 3.  4.  2.  1. nan]\n",
            "Valores 'JobSatisfaction':[ 3.  4.  1.  2. nan]\n",
            "Valores 'WorkLifeBalance':[ 2.  3.  1.  4. nan]\n",
            "Valores 'Age':[31 33 48 42 34 53 50 39 37 45 36 30 40 41 27 43 38 24 18 51 32 47 26 46\n",
            " 44 29 60 22 35 28 59 57 58 55 20 25 54 19 49 52 56 23 21]\n",
            "Valores 'BusinessTravel':['Travel_Frequently' 'Travel_Rarely' 'Non-Travel']\n",
            "Valores 'Department':['Sales' 'Human Resources' 'Research & Development']\n",
            "Valores 'DistanceFromHome':[10  3  8 11  9  5  6  2  1 28 29 23 19 21 14 25  4  7 16 24 12 26 18 15\n",
            " 22 17 27 20 13]\n",
            "Valores 'Education':[3 1 4 2 5]\n",
            "Valores 'EducationField':['Technical Degree' 'Marketing' 'Medical' 'Life Sciences' 'Other'\n",
            " 'Human Resources']\n",
            "Valores 'EmployeeCount':[1]\n",
            "Valores 'EmployeeID':[3514 3922  790 ... 3588 3856 1115]\n",
            "Valores 'Gender':['Female' 'Male']\n",
            "Valores 'JobLevel':[1 2 4 3 5]\n",
            "Valores 'JobRole':['Research Director' 'Sales Executive' 'Laboratory Technician' 'Manager'\n",
            " 'Research Scientist' 'Healthcare Representative' 'Manufacturing Director'\n",
            " 'Sales Representative' 'Human Resources']\n",
            "Valores 'MaritalStatus':['Married' 'Single' 'Divorced']\n",
            "Valores 'MonthlyIncome':[53040 46210 27000 ... 42860 59850 30220]\n",
            "Valores 'NumCompaniesWorked':[ 1.  2.  0.  7.  3.  4.  6.  5.  8.  9. nan]\n",
            "Valores 'Over18':['Y']\n",
            "Valores 'PercentSalaryHike':[17 18 14 13 16 12 15 11 19 21 24 22 23 20 25]\n",
            "Valores 'StandardHours':[8]\n",
            "Valores 'StockOptionLevel':[0 1 3 2]\n",
            "Valores 'TotalWorkingYears':[ 2.  9.  5. 21. 10. 35. 28.  7. 22.  0. 20.  8. 11.  6. 16.  3.  4.  1.\n",
            " 19. 15. 12. 26. 14. 18. 17. 30. 24. 32. 31. 23. 36. 13. 29. 25. 37. 33.\n",
            " nan 40. 27. 34. 38.]\n",
            "Valores 'TrainingTimesLastYear':[3 2 4 1 5 6 0]\n",
            "Valores 'YearsAtCompany':[ 2  5  4  3  6  8 27 10  9 21  0 20  7  1 15 12 18 16 22 14 13 17 36 11\n",
            " 19 25 32 26 31 30 24 33 29 23 40 37 34]\n",
            "Valores 'YearsSinceLastPromotion':[ 2  1  0  3  7 15  5  4  9 11 13  6 14 12  8 10]\n",
            "Valores 'YearsWithCurrManager':[ 2  4  3  7  8  9  0  6  1 13 11 10 17  5 14 12 15 16]\n",
            "Valores 'Attrition':['Yes' 'No']\n"
          ]
        }
      ]
    }
  ]
}