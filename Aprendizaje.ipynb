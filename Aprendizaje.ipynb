{
  "nbformat": 4,
  "nbformat_minor": 0,
  "metadata": {
    "colab": {
      "provenance": [],
      "include_colab_link": true
    },
    "kernelspec": {
      "name": "python3",
      "display_name": "Python 3"
    },
    "language_info": {
      "name": "python"
    }
  },
  "cells": [
    {
      "cell_type": "markdown",
      "metadata": {
        "id": "view-in-github",
        "colab_type": "text"
      },
      "source": [
        "<a href=\"https://colab.research.google.com/github/100495699/Aprendizaje/blob/main/Aprendizaje.ipynb\" target=\"_parent\"><img src=\"https://colab.research.google.com/assets/colab-badge.svg\" alt=\"Open In Colab\"/></a>"
      ]
    },
    {
      "cell_type": "markdown",
      "source": [
        "# EDA simplificado\n",
        "\n",
        "En esta seccion vamos a cargar y analizar el dataset para entender mejor su estructura. Identificaremos los diferentes campos, sus valores, valores faltantes, rangos y una matriz de dependencia. Además seleccionaremos los campos más importantes para el modelo de predicción de abandonos.\n",
        "\n",
        "Primero, importaremos todas las librerias necesarios. *Pandas* para leer el dataset, *sklearn* para el desarrollo de los modelos y *numpy* junto con *mathplotlib* para funciones adicionales."
      ],
      "metadata": {
        "id": "DdRrpkWLriwL"
      }
    },
    {
      "cell_type": "code",
      "execution_count": 1,
      "metadata": {
        "id": "hdr8kMgZyG80",
        "outputId": "5c395d09-d373-419d-9d60-05b3d82da042",
        "colab": {
          "base_uri": "https://localhost:8080/"
        }
      },
      "outputs": [
        {
          "output_type": "stream",
          "name": "stdout",
          "text": [
            "Requirement already satisfied: statsmodels in /usr/local/lib/python3.11/dist-packages (0.14.4)\n",
            "Requirement already satisfied: numpy<3,>=1.22.3 in /usr/local/lib/python3.11/dist-packages (from statsmodels) (2.0.2)\n",
            "Requirement already satisfied: scipy!=1.9.2,>=1.8 in /usr/local/lib/python3.11/dist-packages (from statsmodels) (1.14.1)\n",
            "Requirement already satisfied: pandas!=2.1.0,>=1.4 in /usr/local/lib/python3.11/dist-packages (from statsmodels) (2.2.2)\n",
            "Requirement already satisfied: patsy>=0.5.6 in /usr/local/lib/python3.11/dist-packages (from statsmodels) (1.0.1)\n",
            "Requirement already satisfied: packaging>=21.3 in /usr/local/lib/python3.11/dist-packages (from statsmodels) (24.2)\n",
            "Requirement already satisfied: python-dateutil>=2.8.2 in /usr/local/lib/python3.11/dist-packages (from pandas!=2.1.0,>=1.4->statsmodels) (2.8.2)\n",
            "Requirement already satisfied: pytz>=2020.1 in /usr/local/lib/python3.11/dist-packages (from pandas!=2.1.0,>=1.4->statsmodels) (2025.2)\n",
            "Requirement already satisfied: tzdata>=2022.7 in /usr/local/lib/python3.11/dist-packages (from pandas!=2.1.0,>=1.4->statsmodels) (2025.2)\n",
            "Requirement already satisfied: six>=1.5 in /usr/local/lib/python3.11/dist-packages (from python-dateutil>=2.8.2->pandas!=2.1.0,>=1.4->statsmodels) (1.17.0)\n"
          ]
        }
      ],
      "source": [
        "import time\n",
        "import numpy as np\n",
        "import pandas as pd\n",
        "import matplotlib.pyplot as plt\n",
        "import seaborn as sns\n",
        "from sklearn.impute import SimpleImputer\n",
        "from sklearn.preprocessing import LabelEncoder, OneHotEncoder, OrdinalEncoder, StandardScaler\n",
        "from sklearn.model_selection import train_test_split\n",
        "from sklearn.pipeline import Pipeline\n",
        "from sklearn.compose import ColumnTransformer\n",
        "from sklearn.neighbors import KNeighborsClassifier\n",
        "from sklearn.metrics import (accuracy_score, balanced_accuracy_score, recall_score, confusion_matrix)\n",
        "from sklearn.preprocessing import StandardScaler, MinMaxScaler, RobustScaler\n",
        "from sklearn.model_selection import GridSearchCV, RandomizedSearchCV, StratifiedKFold\n",
        "from sklearn import neighbors\n",
        "!pip install statsmodels"
      ]
    },
    {
      "cell_type": "markdown",
      "source": [
        "El primer paso será cargar el dataset con *pandas* y mostrar el numero de filas, columnas y el nombre de todas las columnas"
      ],
      "metadata": {
        "id": "UcoaDxoMuqiO"
      }
    },
    {
      "cell_type": "code",
      "source": [
        "dataset = pd.read_csv('attrition_availabledata_05.csv')\n",
        "num_filas, num_columnas = dataset.shape\n",
        "\n",
        "# Estructura del dataset\n",
        "print(f\"Número de filas: {num_filas}\")\n",
        "print(f\"Número de columnas: {num_columnas}\")\n",
        "# Ver nombres de todas las columnas\n",
        "print(\"Nombres de las columnas:\")\n",
        "print(dataset.columns.tolist())\n",
        "\n"
      ],
      "metadata": {
        "id": "mI51AWreuzGx",
        "outputId": "4fc38228-42e3-49f4-f5ad-a1517cb87e4e",
        "colab": {
          "base_uri": "https://localhost:8080/"
        }
      },
      "execution_count": 2,
      "outputs": [
        {
          "output_type": "stream",
          "name": "stdout",
          "text": [
            "Número de filas: 2940\n",
            "Número de columnas: 31\n",
            "Nombres de las columnas:\n",
            "['hrs', 'absences', 'JobInvolvement', 'PerformanceRating', 'EnvironmentSatisfaction', 'JobSatisfaction', 'WorkLifeBalance', 'Age', 'BusinessTravel', 'Department', 'DistanceFromHome', 'Education', 'EducationField', 'EmployeeCount', 'EmployeeID', 'Gender', 'JobLevel', 'JobRole', 'MaritalStatus', 'MonthlyIncome', 'NumCompaniesWorked', 'Over18', 'PercentSalaryHike', 'StandardHours', 'StockOptionLevel', 'TotalWorkingYears', 'TrainingTimesLastYear', 'YearsAtCompany', 'YearsSinceLastPromotion', 'YearsWithCurrManager', 'Attrition']\n"
          ]
        }
      ]
    },
    {
      "cell_type": "markdown",
      "source": [
        "A continuación vemos los diferentes valores únicos que toman los diferentes registros para cada columna. De esta forma será más fácil ver el tipo de las variables (categóricas, ordinales o numéricas)"
      ],
      "metadata": {
        "id": "ug2p_JIr0XqU"
      }
    },
    {
      "cell_type": "code",
      "source": [
        "for col in dataset.columns:\n",
        "    valores_unicos = dataset[col].unique()\n",
        "    print(f\"Valores '{col}':{valores_unicos}\")"
      ],
      "metadata": {
        "id": "RoK6tUCP0Z3s",
        "outputId": "ccbe47b1-220c-4c2c-eeb8-941eaecf1f45",
        "colab": {
          "base_uri": "https://localhost:8080/"
        }
      },
      "execution_count": 3,
      "outputs": [
        {
          "output_type": "stream",
          "name": "stdout",
          "text": [
            "Valores 'hrs':[6.61262494 6.02681504 6.96645582 ... 6.59509148 7.38075747 6.45303882]\n",
            "Valores 'absences':[18 11 12 10 14 15  2 17 23 22  8  4  5  9  6 21  3  7 19 16 20 13 24  1]\n",
            "Valores 'JobInvolvement':[4 3 2 1]\n",
            "Valores 'PerformanceRating':[3 4]\n",
            "Valores 'EnvironmentSatisfaction':[ 3.  4.  2.  1. nan]\n",
            "Valores 'JobSatisfaction':[ 3.  4.  1.  2. nan]\n",
            "Valores 'WorkLifeBalance':[ 2.  3.  1.  4. nan]\n",
            "Valores 'Age':[31 33 48 42 34 53 50 39 37 45 36 30 40 41 27 43 38 24 18 51 32 47 26 46\n",
            " 44 29 60 22 35 28 59 57 58 55 20 25 54 19 49 52 56 23 21]\n",
            "Valores 'BusinessTravel':['Travel_Frequently' 'Travel_Rarely' 'Non-Travel']\n",
            "Valores 'Department':['Sales' 'Human Resources' 'Research & Development']\n",
            "Valores 'DistanceFromHome':[10  3  8 11  9  5  6  2  1 28 29 23 19 21 14 25  4  7 16 24 12 26 18 15\n",
            " 22 17 27 20 13]\n",
            "Valores 'Education':[3 1 4 2 5]\n",
            "Valores 'EducationField':['Technical Degree' 'Marketing' 'Medical' 'Life Sciences' 'Other'\n",
            " 'Human Resources']\n",
            "Valores 'EmployeeCount':[1]\n",
            "Valores 'EmployeeID':[3514 3922  790 ... 3588 3856 1115]\n",
            "Valores 'Gender':['Female' 'Male']\n",
            "Valores 'JobLevel':[1 2 4 3 5]\n",
            "Valores 'JobRole':['Research Director' 'Sales Executive' 'Laboratory Technician' 'Manager'\n",
            " 'Research Scientist' 'Healthcare Representative' 'Manufacturing Director'\n",
            " 'Sales Representative' 'Human Resources']\n",
            "Valores 'MaritalStatus':['Married' 'Single' 'Divorced']\n",
            "Valores 'MonthlyIncome':[53040 46210 27000 ... 42860 59850 30220]\n",
            "Valores 'NumCompaniesWorked':[ 1.  2.  0.  7.  3.  4.  6.  5.  8.  9. nan]\n",
            "Valores 'Over18':['Y']\n",
            "Valores 'PercentSalaryHike':[17 18 14 13 16 12 15 11 19 21 24 22 23 20 25]\n",
            "Valores 'StandardHours':[8]\n",
            "Valores 'StockOptionLevel':[0 1 3 2]\n",
            "Valores 'TotalWorkingYears':[ 2.  9.  5. 21. 10. 35. 28.  7. 22.  0. 20.  8. 11.  6. 16.  3.  4.  1.\n",
            " 19. 15. 12. 26. 14. 18. 17. 30. 24. 32. 31. 23. 36. 13. 29. 25. 37. 33.\n",
            " nan 40. 27. 34. 38.]\n",
            "Valores 'TrainingTimesLastYear':[3 2 4 1 5 6 0]\n",
            "Valores 'YearsAtCompany':[ 2  5  4  3  6  8 27 10  9 21  0 20  7  1 15 12 18 16 22 14 13 17 36 11\n",
            " 19 25 32 26 31 30 24 33 29 23 40 37 34]\n",
            "Valores 'YearsSinceLastPromotion':[ 2  1  0  3  7 15  5  4  9 11 13  6 14 12  8 10]\n",
            "Valores 'YearsWithCurrManager':[ 2  4  3  7  8  9  0  6  1 13 11 10 17  5 14 12 15 16]\n",
            "Valores 'Attrition':['Yes' 'No']\n"
          ]
        }
      ]
    },
    {
      "cell_type": "markdown",
      "source": [
        "Una vez tenemos los valores únicos que pueden tomar las variables se observa que:\n",
        "\n",
        "*   **Variables numericas:** hrs, absences, Age, DistanceFromHome, MonthlyIncome, NumCompaniesWorked, PercentSalaryHike, TotalWorkingYears, YearsAtCompany, YearsSinceLastPromotion, YearsWithCurrManager\n",
        "\n",
        "*   **Variables categóricas:** BusinessTravel, Department, EducationField, Gender, JobRole, MaritalStatus, Attrition\n",
        "\n",
        "*   **Variables ordinales:** JobInvolvement, PerformanceRating, EnvironmentSatisfaction, JobSatisfaction, WorkLifeBalance, Education, JobLevel, StockOptionLevel, TrainingTimesLastYear\n",
        "\n",
        "Además, localizamos una serie de variables que toman valores constantes o son ids y, por tanto no aportan información adicional y podrian eliminarse.\n",
        "\n",
        "* **Variables especiales:** EmployeeCount, EmployeeID, Over18, StandardHours\n"
      ],
      "metadata": {
        "id": "QDhR3E904ISD"
      }
    },
    {
      "cell_type": "markdown",
      "source": [
        "\n",
        "Si ahora nos centramos en las variables numéricas, hay que tener en cuenta las variables con muchos valores faltantes o valores no validos. Para controlar esto, vamos a ver la cantidad de valores no validos o faltantes para las variables de dicha categoría.\n"
      ],
      "metadata": {
        "id": "XoYBUtXR997z"
      }
    },
    {
      "cell_type": "code",
      "source": [
        "columnas_numericas= [\"hrs\", \"absences\", \"Age\", \"DistanceFromHome\", \"MonthlyIncome\", \"NumCompaniesWorked\",\n",
        " \"PercentSalaryHike\", \"TotalWorkingYears\", \"YearsAtCompany\", \"YearsSinceLastPromotion\", \"YearsWithCurrManager\"]\n",
        "\n",
        "print(dataset[columnas_numericas].isnull().sum())"
      ],
      "metadata": {
        "id": "qm4i0-qu9gu5",
        "outputId": "28681192-3c2f-44cd-c80a-e5786a127727",
        "colab": {
          "base_uri": "https://localhost:8080/"
        }
      },
      "execution_count": 4,
      "outputs": [
        {
          "output_type": "stream",
          "name": "stdout",
          "text": [
            "hrs                         0\n",
            "absences                    0\n",
            "Age                         0\n",
            "DistanceFromHome            0\n",
            "MonthlyIncome               0\n",
            "NumCompaniesWorked         13\n",
            "PercentSalaryHike           0\n",
            "TotalWorkingYears           6\n",
            "YearsAtCompany              0\n",
            "YearsSinceLastPromotion     0\n",
            "YearsWithCurrManager        0\n",
            "dtype: int64\n"
          ]
        }
      ]
    },
    {
      "cell_type": "markdown",
      "source": [
        "Observamos que en la columna NumCompaniesWorked hay 13 registros que no tienen valor, [DECIDIR QUÉ HACER]"
      ],
      "metadata": {
        "id": "zDBjotfy_7qQ"
      }
    },
    {
      "cell_type": "markdown",
      "source": [
        "Para las cariables categóricas, es importante saber factores como la cardinalidad, los valores faltantes y, si es necesario, la codificacion de variables para transformarlas a numericas."
      ],
      "metadata": {
        "id": "le7aZQbJA3Gz"
      }
    },
    {
      "cell_type": "code",
      "source": [
        "columnas_categoricas = [\"BusinessTravel\", \"Department\", \"EducationField\", \"Gender\", \"JobRole\", \"MaritalStatus\", \"Attrition\"]\n",
        "card = dataset[columnas_categoricas].nunique()\n",
        "\n",
        "# Crear un gráfico de barras para mostrar la cardinalidad\n",
        "plt.figure(figsize=(10, 6))\n",
        "plt.bar(card.index, card.values, color='skyblue')\n",
        "plt.title(\"Cardinalidad de Variables Categóricas\", fontsize=16)\n",
        "plt.xlabel(\"Variables Categóricas\", fontsize=14)\n",
        "plt.ylabel(\"Número de Categorías Únicas\", fontsize=14)\n",
        "plt.xticks(rotation=45, ha='right')  # Rotar etiquetas del eje x para mejor legibilidad\n",
        "\n",
        "# Mostrar el gráfico\n",
        "plt.tight_layout()  # Ajustar el layout para que no se corten las etiquetas\n",
        "plt.show()"
      ],
      "metadata": {
        "id": "xjlj40mxBkAa",
        "outputId": "4d65fd2d-f9d7-4e52-f591-323d3833fce6",
        "colab": {
          "base_uri": "https://localhost:8080/",
          "height": 607
        },
        "collapsed": true
      },
      "execution_count": 5,
      "outputs": [
        {
          "output_type": "display_data",
          "data": {
            "text/plain": [
              "<Figure size 1000x600 with 1 Axes>"
            ],
            "image/png": "[encoded data removed]"
          },
          "metadata": {}
        }
      ]
    },
    {
      "cell_type": "markdown",
      "source": [
        "Hacemos lo mismo para las variables ordinales\n"
      ],
      "metadata": {
        "id": "GGtTXvKMq-ZW"
      }
    },
    {
      "cell_type": "code",
      "source": [
        "columnas_ordinales = [\"JobInvolvement\", \"PerformanceRating\", \"EnvironmentSatisfaction\", \"JobSatisfaction\", \"WorkLifeBalance\", \"Education\", \"JobLevel\", \"StockOptionLevel\", \"TrainingTimesLastYear\"]\n",
        "print(dataset[columnas_ordinales].isnull().sum())"
      ],
      "metadata": {
        "id": "9oZDOIgyrQFv",
        "outputId": "2dcd60c1-071d-45fc-d987-d40a7245b169",
        "colab": {
          "base_uri": "https://localhost:8080/"
        }
      },
      "execution_count": 6,
      "outputs": [
        {
          "output_type": "stream",
          "name": "stdout",
          "text": [
            "JobInvolvement              0\n",
            "PerformanceRating           0\n",
            "EnvironmentSatisfaction    16\n",
            "JobSatisfaction            17\n",
            "WorkLifeBalance            20\n",
            "Education                   0\n",
            "JobLevel                    0\n",
            "StockOptionLevel            0\n",
            "TrainingTimesLastYear       0\n",
            "dtype: int64\n"
          ]
        }
      ]
    },
    {
      "cell_type": "markdown",
      "source": [
        "Para determinar el tipo de problema que se plantea, se observa la variable objetivo 'attrition'. Esta variable es de tipo categórica, por tanto, podemos establecer el problema como un problema de clasificación."
      ],
      "metadata": {
        "id": "yraQl4NwtiV_"
      }
    },
    {
      "cell_type": "markdown",
      "source": [
        "Para determinar si el dataset está desbalanceado mostramos en una grafica la cantidad de filas con el valor 'No' junto con los registros con el valor 'Si'. Se observa que alrededor de un 83% de los registros pertenecen a la clase mayoritaria 'NO'. Hay que tener en cuenta esta información para que a la hora de dividir el dataset en train-test haya una distribución similar de registros de cada clase."
      ],
      "metadata": {
        "id": "z0xl8eQ9vIkb"
      }
    },
    {
      "cell_type": "code",
      "source": [
        "conteo_attrition = dataset[\"Attrition\"].value_counts()\n",
        "porcentaje_attrition = dataset[\"Attrition\"].value_counts(normalize=True) * 100\n",
        "\n",
        "print(pd.DataFrame({\"Cantidad\": conteo_attrition, \"Porcentaje\": porcentaje_attrition}))\n",
        "\n",
        "plt.figure(figsize=(6, 4))\n",
        "plt.bar(conteo_attrition.index, conteo_attrition.values, color='skyblue')\n",
        "plt.xlabel(\"Attrition\")\n",
        "plt.ylabel(\"Cantidad de empleados\")\n",
        "plt.title(\"Distribución de Attrition\")\n",
        "plt.show()\n"
      ],
      "metadata": {
        "id": "XFadKuQ1vM_d",
        "outputId": "5783975e-32ed-4c80-b311-b848da80f3e3",
        "colab": {
          "base_uri": "https://localhost:8080/",
          "height": 479
        }
      },
      "execution_count": 7,
      "outputs": [
        {
          "output_type": "stream",
          "name": "stdout",
          "text": [
            "           Cantidad  Porcentaje\n",
            "Attrition                      \n",
            "No             2466   83.877551\n",
            "Yes             474   16.122449\n"
          ]
        },
        {
          "output_type": "display_data",
          "data": {
            "text/plain": [
              "<Figure size 600x400 with 1 Axes>"
            ],
            "image/png": "[encoded data removed]"
          },
          "metadata": {}
        }
      ]
    },
    {
      "cell_type": "markdown",
      "source": [
        "Por último, se realiza una matriz de correlación para determinar cuales son las columnas (numericas) que tienen relación con la variable objetivo. Para ello se procede a utilizar Label encoder para las variables ordinales y one hot para las variables categoricas de baja cardinalidad."
      ],
      "metadata": {
        "id": "XPKjczZySx7_"
      }
    },
    {
      "cell_type": "code",
      "source": [
        "\n"
      ],
      "metadata": {
        "id": "Okt5c9VPz7Ex"
      },
      "execution_count": null,
      "outputs": []
    },
    {
      "cell_type": "code",
      "source": [
        "\n",
        "\n"
      ],
      "metadata": {
        "collapsed": true,
        "id": "H8w4zhfVTLnd",
        "outputId": "18376c7f-2e4c-4029-fa7d-fc8a0c675d9a",
        "colab": {
          "base_uri": "https://localhost:8080/"
        }
      },
      "execution_count": null,
      "outputs": [
        {
          "output_type": "stream",
          "name": "stdout",
          "text": [
            "           hrs  absences  JobInvolvement  PerformanceRating  \\\n",
            "0     6.612625        18               3                  0   \n",
            "1     6.026815        18               2                  0   \n",
            "2     6.966456        11               2                  0   \n",
            "3     6.678438        12               3                  0   \n",
            "4     6.235761        10               2                  0   \n",
            "...        ...       ...             ...                ...   \n",
            "2935  9.427815        12               2                  0   \n",
            "2936  5.658448        17               2                  0   \n",
            "2937  6.595091        10               2                  0   \n",
            "2938  7.380757        16               1                  1   \n",
            "2939  6.453039        19               2                  0   \n",
            "\n",
            "      EnvironmentSatisfaction  JobSatisfaction  WorkLifeBalance  Age  \\\n",
            "0                           2                2                1   31   \n",
            "1                           3                3                1   31   \n",
            "2                           3                0                2   33   \n",
            "3                           3                0                0   48   \n",
            "4                           2                2                1   42   \n",
            "...                       ...              ...              ...  ...   \n",
            "2935                        1                3                1   40   \n",
            "2936                        0                2                1   36   \n",
            "2937                        3                3                1   29   \n",
            "2938                        1                0                2   36   \n",
            "2939                        0                0                2   39   \n",
            "\n",
            "      DistanceFromHome  Education  ...  JobRole_Laboratory Technician  \\\n",
            "0                   10          2  ...                          False   \n",
            "1                    3          2  ...                          False   \n",
            "2                   10          2  ...                          False   \n",
            "3                    8          0  ...                           True   \n",
            "4                   11          2  ...                          False   \n",
            "...                ...        ...  ...                            ...   \n",
            "2935                 2          3  ...                          False   \n",
            "2936                 7          1  ...                          False   \n",
            "2937                 3          2  ...                          False   \n",
            "2938                23          2  ...                          False   \n",
            "2939                 1          2  ...                           True   \n",
            "\n",
            "      JobRole_Manager  JobRole_Manufacturing Director  \\\n",
            "0               False                           False   \n",
            "1               False                           False   \n",
            "2               False                           False   \n",
            "3               False                           False   \n",
            "4                True                           False   \n",
            "...               ...                             ...   \n",
            "2935            False                           False   \n",
            "2936            False                           False   \n",
            "2937            False                           False   \n",
            "2938            False                           False   \n",
            "2939            False                           False   \n",
            "\n",
            "      JobRole_Research Director  JobRole_Research Scientist  \\\n",
            "0                          True                       False   \n",
            "1                         False                       False   \n",
            "2                         False                       False   \n",
            "3                         False                       False   \n",
            "4                         False                       False   \n",
            "...                         ...                         ...   \n",
            "2935                      False                        True   \n",
            "2936                      False                        True   \n",
            "2937                      False                       False   \n",
            "2938                      False                       False   \n",
            "2939                      False                       False   \n",
            "\n",
            "     JobRole_Sales Executive  JobRole_Sales Representative  \\\n",
            "0                      False                         False   \n",
            "1                       True                         False   \n",
            "2                       True                         False   \n",
            "3                      False                         False   \n",
            "4                      False                         False   \n",
            "...                      ...                           ...   \n",
            "2935                   False                         False   \n",
            "2936                   False                         False   \n",
            "2937                   False                         False   \n",
            "2938                    True                         False   \n",
            "2939                   False                         False   \n",
            "\n",
            "      MaritalStatus_Married  MaritalStatus_Single  Attrition_Yes  \n",
            "0                      True                 False           True  \n",
            "1                     False                  True          False  \n",
            "2                      True                 False          False  \n",
            "3                      True                 False          False  \n",
            "4                      True                 False          False  \n",
            "...                     ...                   ...            ...  \n",
            "2935                   True                 False          False  \n",
            "2936                  False                 False           True  \n",
            "2937                  False                 False          False  \n",
            "2938                   True                 False          False  \n",
            "2939                   True                 False          False  \n",
            "\n",
            "[2940 rows x 45 columns]\n"
          ]
        }
      ]
    },
    {
      "cell_type": "markdown",
      "source": [
        "# Evaluación"
      ],
      "metadata": {
        "id": "kxuqsYFsxANb"
      }
    },
    {
      "cell_type": "markdown",
      "source": [
        "A continuación se divide el dataset original en train y test con una proporcion train (2/3) y test (1/3) manteniendo la proporcion de casos pertenecientes a la clase 'Si' en la variable objetivo.\n"
      ],
      "metadata": {
        "id": "EDBSjRiJRPGr"
      }
    },
    {
      "cell_type": "code",
      "source": [
        "from sklearn.preprocessing import LabelEncoder\n",
        "\n",
        "dataset = dataset.dropna()\n",
        "columnas_categoricas.remove(\"Attrition\")\n",
        "X = dataset.drop(columns=[\"Attrition\"])\n",
        "y = dataset[\"Attrition\"]\n",
        "y = y.map({\"Yes\": 1, \"No\": 0})\n",
        "\n",
        "X_train, X_test, y_train, y_test = train_test_split(\n",
        "    X, y, test_size=1/3, random_state=42, stratify=y)\n",
        "\n",
        "train_distribution = y_train.value_counts(normalize=True) * 100\n",
        "test_distribution = y_test.value_counts(normalize=True) * 100\n",
        "\n",
        "print(\"\\nDistribución en el conjunto de entrenamiento (Train):\")\n",
        "print(train_distribution)\n",
        "print(\"\\nDistribución en el conjunto de prueba (Test):\")\n",
        "print(test_distribution)\n"
      ],
      "metadata": {
        "id": "ToQaOSRHx_wJ",
        "outputId": "1646fdda-4200-414e-94cb-ff185050d918",
        "colab": {
          "base_uri": "https://localhost:8080/"
        }
      },
      "execution_count": 8,
      "outputs": [
        {
          "output_type": "stream",
          "name": "stdout",
          "text": [
            "\n",
            "Distribución en el conjunto de entrenamiento (Train):\n",
            "Attrition\n",
            "0    83.786611\n",
            "1    16.213389\n",
            "Name: proportion, dtype: float64\n",
            "\n",
            "Distribución en el conjunto de prueba (Test):\n",
            "Attrition\n",
            "0    83.786611\n",
            "1    16.213389\n",
            "Name: proportion, dtype: float64\n"
          ]
        }
      ]
    },
    {
      "cell_type": "markdown",
      "source": [
        "# KNN"
      ],
      "metadata": {
        "id": "fjvI-pf03S-u"
      }
    },
    {
      "cell_type": "markdown",
      "source": [
        "A continuacion definimos y entrenamos los diferentes modelos que usan KNN.\n",
        "Para obtener los mejores hiperparámetros y el mejor escaler e imputer, se utiliza ColumnTransformer y pipelines para hacer el preprocesado y GridSearch para hacer la búsqueda de los mejores parametros basando su respuesa final en la precisión del modelo.\n",
        "\n",
        "Dentro de esta busqueda de la mejor configuración de parámetros se encuentra el modelo por defecto de KNN (n_neighbors = 5, weights= 'uniform', metric= 'minkowski' y algorithm = 'auto').\n",
        "\n",
        "El preprocesado consiste en [...]\n",
        "\n"
      ],
      "metadata": {
        "id": "t7teNI94tqjD"
      }
    },
    {
      "cell_type": "code",
      "source": [
        "from sklearn.model_selection import GridSearchCV\n",
        "from sklearn.metrics import balanced_accuracy_score, accuracy_score, recall_score, confusion_matrix\n",
        "import time\n",
        "# Search space\n",
        "# rango de valores de hiperparametros que el metodo grid search CV va a probar\n",
        "preprocessor = ColumnTransformer([\n",
        "    (\"num\", Pipeline([\n",
        "        (\"imputer\", SimpleImputer(strategy=\"median\")),  # Imputación para numéricas\n",
        "        (\"scaler\", StandardScaler())  # Escalado de datos numéricos\n",
        "    ]), columnas_numericas),\n",
        "\n",
        "    (\"cat\", Pipeline([\n",
        "        (\"imputer\", SimpleImputer(strategy=\"most_frequent\")),  # Imputación para categóricas\n",
        "        (\"encoder\", OneHotEncoder(handle_unknown=\"ignore\"))  # OneHot para variables categóricas\n",
        "    ]), columnas_categoricas),\n",
        "\n",
        "    (\"ord\", Pipeline([\n",
        "        (\"imputer\", SimpleImputer(strategy=\"most_frequent\")),  # Imputación para ordinales\n",
        "        (\"encoder\", OrdinalEncoder(handle_unknown=\"use_encoded_value\", unknown_value=-1))  # OrdinalEncoder para categorías ordenadas\n",
        "    ]), columnas_ordinales)\n",
        "])\n",
        "\n",
        "param_grid = {\n",
        "    \"preprocessor__num__imputer__strategy\": [\"mean\", \"median\"],\n",
        "    \"preprocessor__num__scaler\": [StandardScaler(), MinMaxScaler(), RobustScaler()],\n",
        "    \"classifier__n_neighbors\": [3, 5, 7, 11],\n",
        "    \"classifier__weights\": [\"uniform\", \"distance\"],\n",
        "    \"classifier__algorithm\": [\"auto\", \"ball_tree\", \"kd_tree\"],\n",
        "    \"classifier__metric\": [\"euclidean\", \"manhattan\", \"minkowski\"]\n",
        "}\n",
        "\n",
        "clf = Pipeline(\n",
        "    steps=[(\"preprocessor\", preprocessor), (\"classifier\", neighbors.KNeighborsClassifier())]\n",
        ")\n",
        "\n",
        "inner = StratifiedKFold(n_splits=3, shuffle=True, random_state=42)\n",
        "search_cv = GridSearchCV(\n",
        "    clf, param_grid,\n",
        "    #n_iter=6,\n",
        "    cv=inner,\n",
        "    scoring=[\"balanced_accuracy\", \"accuracy\"],\n",
        "    refit=\"balanced_accuracy\"\n",
        ")\n",
        "\n",
        "\n",
        "start_time = time.time()\n",
        "search_cv.fit(X_train, y_train)\n",
        "end_time = time.time()\n",
        "training_time = end_time - start_time\n",
        "\n",
        "\n",
        "print(f\"Tiempo de entrenamiento: {training_time:.4f} segundos\")\n",
        "print(\"Mejores Parametros:\")\n",
        "print(search_cv.best_params_)"
      ],
      "metadata": {
        "colab": {
          "base_uri": "https://localhost:8080/"
        },
        "id": "aR6dnnXMuYKO",
        "outputId": "2b574cab-a418-442e-909c-454eaba33086"
      },
      "execution_count": 10,
      "outputs": [
        {
          "output_type": "stream",
          "name": "stdout",
          "text": [
            "Tiempo de entrenamiento: 154.5817 segundos\n",
            "Mejores Parametros:\n",
            "{'classifier__algorithm': 'auto', 'classifier__metric': 'manhattan', 'classifier__n_neighbors': 3, 'classifier__weights': 'distance', 'preprocessor__num__imputer__strategy': 'mean', 'preprocessor__num__scaler': RobustScaler()}\n"
          ]
        }
      ]
    },
    {
      "cell_type": "markdown",
      "source": [
        "Analizamos el impacto de los parametros"
      ],
      "metadata": {
        "id": "Wi6XYaSO1nLz"
      }
    },
    {
      "cell_type": "code",
      "source": [
        "import matplotlib.pyplot as plt\n",
        "\n",
        "results = pd.DataFrame(search_cv.cv_results_)\n",
        "neighbors_results = results[[\"param_classifier__n_neighbors\", \"mean_test_balanced_accuracy\"]]\n",
        "\n",
        "neighbors_results = neighbors_results.sort_values(by=\"param_classifier__n_neighbors\")\n",
        "\n",
        "plt.figure(figsize=(8, 5))\n",
        "plt.scatter(neighbors_results[\"param_classifier__n_neighbors\"], neighbors_results[\"mean_test_balanced_accuracy\"], marker=\"o\", color=\"b\")\n",
        "plt.xlabel(\"Número de Vecinos (k)\")\n",
        "plt.ylabel(\"Balanced Accuracy\")\n",
        "plt.title(\"Impacto del Número de Vecinos en KNN\")\n",
        "plt.grid()\n",
        "plt.show()\n",
        "\n",
        "metric_results = results[[\"param_classifier__metric\", \"mean_test_balanced_accuracy\"]]\n",
        "\n",
        "\n"
      ],
      "metadata": {
        "id": "5iR58bBO1p1f",
        "outputId": "aa01c1e8-50bd-45d2-860a-eafcc5a199a1",
        "colab": {
          "base_uri": "https://localhost:8080/",
          "height": 488
        }
      },
      "execution_count": 11,
      "outputs": [
        {
          "output_type": "display_data",
          "data": {
            "text/plain": [
              "<Figure size 800x500 with 1 Axes>"
            ],
            "image/png": "[encoded data removed]"
          },
          "metadata": {}
        }
      ]
    },
    {
      "cell_type": "markdown",
      "source": [
        "Ahora calculamos las metricas del mejor modelo"
      ],
      "metadata": {
        "id": "3SdD_YN83Nnc"
      }
    },
    {
      "cell_type": "code",
      "source": [
        "\n",
        "y_pred = search_cv.best_estimator_.predict(X_test)\n",
        "balanced_acc = balanced_accuracy_score(y_test, y_pred)\n",
        "accuracy = accuracy_score(y_test, y_pred)\n",
        "cm = confusion_matrix(y_test, y_pred)\n",
        "\n",
        "TN, FP, FN, TP = cm.ravel()\n",
        "TPR = TP / (TP + FN)  # Sensibilidad (recall positivo)\n",
        "TNR = TN / (TN + FP)  # Especificidad (recall negativo)\n",
        "\n",
        "\n",
        "print(f\"Balanced Accuracy: {balanced_acc:.4f}\")\n",
        "print(f\"Accuracy: {accuracy:.4f}\")\n",
        "print(f\"TPR (Sensibilidad / Recall Positivo): {TPR:.4f}\")\n",
        "print(f\"TNR (Especificidad / Recall Negativo): {TNR:.4f}\")"
      ],
      "metadata": {
        "id": "40cBjbsL3Qnw",
        "outputId": "8288648a-2093-4743-ec8d-ad70e17ffc49",
        "colab": {
          "base_uri": "https://localhost:8080/"
        }
      },
      "execution_count": 12,
      "outputs": [
        {
          "output_type": "stream",
          "name": "stdout",
          "text": [
            "Balanced Accuracy: 0.8748\n",
            "Accuracy: 0.9341\n",
            "TPR (Sensibilidad / Recall Positivo): 0.7871\n",
            "TNR (Especificidad / Recall Negativo): 0.9625\n"
          ]
        }
      ]
    },
    {
      "cell_type": "markdown",
      "source": [
        "# TREES"
      ],
      "metadata": {
        "id": "CCotBOJ3yRzq"
      }
    },
    {
      "cell_type": "code",
      "source": [
        "from sklearn.model_selection import GridSearchCV\n",
        "from sklearn.tree import DecisionTreeClassifier\n",
        "import time\n",
        "# Search space\n",
        "# rango de valores de hiperparametros que el metodo grid search CV va a probar\n",
        "preprocessor = ColumnTransformer([\n",
        "    (\"num\", Pipeline([\n",
        "        (\"imputer\", SimpleImputer(strategy=\"median\")),  # Imputación para numéricas\n",
        "        (\"scaler\", StandardScaler())  # Escalado de datos numéricos\n",
        "    ]), columnas_numericas),\n",
        "\n",
        "    (\"cat\", Pipeline([\n",
        "        (\"imputer\", SimpleImputer(strategy=\"most_frequent\")),  # Imputación para categóricas\n",
        "        (\"encoder\", OneHotEncoder(handle_unknown=\"ignore\"))  # OneHot para variables categóricas\n",
        "    ]), columnas_categoricas),\n",
        "\n",
        "    (\"ord\", Pipeline([\n",
        "        (\"imputer\", SimpleImputer(strategy=\"most_frequent\")),  # Imputación para ordinales\n",
        "        (\"encoder\", OrdinalEncoder(handle_unknown=\"use_encoded_value\", unknown_value=-1))  # OrdinalEncoder para categorías ordenadas\n",
        "    ]), columnas_ordinales)\n",
        "])\n",
        "\n",
        "param_grid = {\n",
        "    \"preprocessor__num__imputer__strategy\": [\"mean\", \"median\"],\n",
        "    \"preprocessor__num__scaler\": [StandardScaler(), MinMaxScaler(), RobustScaler()],\n",
        "    \"classifier__max_depth\": [2, 4, 6, 8, 10, 12, 14, None],\n",
        "    #\"classifier__criterion\": [\"gini\", \"entropy\", \"log_loss\"],\n",
        "    #\"classifier__splitter\": [\"best\", \"random\"],\n",
        "    \"classifier__min_samples_split\": [2, 5, 10],\n",
        "    \"classifier__min_samples_leaf\": [1, 2, 4],\n",
        "\n",
        "}\n",
        "\n",
        "clf = Pipeline(\n",
        "    steps=[(\"preprocessor\", preprocessor), (\"classifier\", DecisionTreeClassifier())]\n",
        ")\n",
        "\n",
        "inner = StratifiedKFold(n_splits=3, shuffle=True, random_state=42)\n",
        "search_cv = GridSearchCV(\n",
        "    clf, param_grid,\n",
        "    cv=inner,\n",
        "    scoring=\"balanced_accuracy\"\n",
        ")\n",
        "\n",
        "start_time = time.time()\n",
        "search_cv.fit(X_train, y_train)\n",
        "end_time = time.time()\n",
        "\n",
        "training_time = end_time - start_time\n",
        "print(f\"Tiempo de entrenamiento: {training_time:.4f} segundos\")\n",
        "print(\"Mejores Parametros:\")\n",
        "print(search_cv.best_params_)"
      ],
      "metadata": {
        "id": "mnIdip8uyUaG",
        "outputId": "d423fd78-3a7b-4c5b-ae7f-5a56f7f414d5",
        "colab": {
          "base_uri": "https://localhost:8080/"
        }
      },
      "execution_count": 13,
      "outputs": [
        {
          "output_type": "stream",
          "name": "stdout",
          "text": [
            "Tiempo de entrenamiento: 71.7264 segundos\n",
            "Mejores Parametros:\n",
            "{'classifier__max_depth': None, 'classifier__min_samples_leaf': 1, 'classifier__min_samples_split': 2, 'preprocessor__num__imputer__strategy': 'mean', 'preprocessor__num__scaler': StandardScaler()}\n"
          ]
        }
      ]
    },
    {
      "cell_type": "markdown",
      "source": [
        "Vemos el efecto de maz_depth en las metricas"
      ],
      "metadata": {
        "id": "XiZNYWTg38nT"
      }
    },
    {
      "cell_type": "code",
      "source": [
        "import matplotlib.pyplot as plt\n",
        "\n",
        "results = pd.DataFrame(search_cv.cv_results_)\n",
        "depth_results = results[[\"param_classifier__max_depth\", \"mean_test_score\"]]\n",
        "\n",
        "depth_results = depth_results.sort_values(by=\"param_classifier__max_depth\")\n",
        "\n",
        "plt.figure(figsize=(8, 5))\n",
        "plt.scatter(depth_results[\"param_classifier__max_depth\"], depth_results[\"mean_test_score\"], marker=\"o\", color=\"r\")\n",
        "plt.xlabel(\"Profundidad Máxima (max_depth)\")\n",
        "plt.ylabel(\"Balanced Accuracy\")\n",
        "plt.title(\"Impacto de max_depth en Árboles de Decisión\")\n",
        "plt.grid()\n",
        "plt.show()\n"
      ],
      "metadata": {
        "id": "LIDiCmAc38VD",
        "outputId": "20791398-bbdb-4452-aac2-13b59158b8f8",
        "colab": {
          "base_uri": "https://localhost:8080/",
          "height": 490
        }
      },
      "execution_count": 14,
      "outputs": [
        {
          "output_type": "display_data",
          "data": {
            "text/plain": [
              "<Figure size 800x500 with 1 Axes>"
            ],
            "image/png": "[encoded data removed]"
          },
          "metadata": {}
        }
      ]
    },
    {
      "cell_type": "markdown",
      "source": [
        "Calculamos las metricas del mejor modelo"
      ],
      "metadata": {
        "id": "fjM0_4PX34uE"
      }
    },
    {
      "cell_type": "code",
      "source": [
        "y_pred = search_cv.best_estimator_.predict(X_test)\n",
        "balanced_acc = balanced_accuracy_score(y_test, y_pred)\n",
        "accuracy = accuracy_score(y_test, y_pred)\n",
        "cm = confusion_matrix(y_test, y_pred)\n",
        "\n",
        "TN, FP, FN, TP = cm.ravel()\n",
        "TPR = TP / (TP + FN)  # Sensibilidad (recall positivo)\n",
        "TNR = TN / (TN + FP)  # Especificidad (recall negativo)\n",
        "\n",
        "\n",
        "print(f\"Balanced Accuracy: {balanced_acc:.4f}\")\n",
        "print(f\"Accuracy: {accuracy:.4f}\")\n",
        "print(f\"TPR (Sensibilidad / Recall Positivo): {TPR:.4f}\")\n",
        "print(f\"TNR (Especificidad / Recall Negativo): {TNR:.4f}\")"
      ],
      "metadata": {
        "id": "3C-dZ6FJ3aVW",
        "outputId": "006db63f-ba40-4f20-957c-46a27adf6c43",
        "colab": {
          "base_uri": "https://localhost:8080/"
        }
      },
      "execution_count": 15,
      "outputs": [
        {
          "output_type": "stream",
          "name": "stdout",
          "text": [
            "Balanced Accuracy: 0.8253\n",
            "Accuracy: 0.8860\n",
            "TPR (Sensibilidad / Recall Positivo): 0.7355\n",
            "TNR (Especificidad / Recall Negativo): 0.9151\n"
          ]
        }
      ]
    },
    {
      "cell_type": "markdown",
      "source": [
        "# Modelos Lineales y SVM"
      ],
      "metadata": {
        "id": "-hsII_Mq049R"
      }
    },
    {
      "cell_type": "markdown",
      "source": [
        "Modelo lineal"
      ],
      "metadata": {
        "id": "pFtLOq1V5G5t"
      }
    },
    {
      "cell_type": "code",
      "source": [
        "from sklearn.model_selection import GridSearchCV\n",
        "from sklearn.svm import LinearSVC\n",
        "from sklearn.linear_model import LogisticRegression\n",
        "\n",
        "import time\n",
        "# Search space\n",
        "# rango de valores de hiperparametros que el metodo grid search CV va a probar\n",
        "preprocessor = ColumnTransformer([\n",
        "    (\"num\", Pipeline([\n",
        "        (\"imputer\", SimpleImputer(strategy=\"median\")),  # Imputación para numéricas\n",
        "        (\"scaler\", StandardScaler())  # Escalado de datos numéricos\n",
        "    ]), columnas_numericas),\n",
        "\n",
        "    (\"cat\", Pipeline([\n",
        "        (\"imputer\", SimpleImputer(strategy=\"most_frequent\")),  # Imputación para categóricas\n",
        "        (\"encoder\", OneHotEncoder(handle_unknown=\"ignore\"))  # OneHot para variables categóricas\n",
        "    ]), columnas_categoricas),\n",
        "\n",
        "    (\"ord\", Pipeline([\n",
        "        (\"imputer\", SimpleImputer(strategy=\"most_frequent\")),  # Imputación para ordinales\n",
        "        (\"encoder\", OrdinalEncoder(handle_unknown=\"use_encoded_value\", unknown_value=-1))  # OrdinalEncoder para categorías ordenadas\n",
        "    ]), columnas_ordinales)\n",
        "])\n",
        "\n",
        "param_grid = {\n",
        "    \"preprocessor__num__imputer__strategy\": [\"mean\", \"median\"],\n",
        "    \"preprocessor__num__scaler\": [StandardScaler(), MinMaxScaler(), RobustScaler()],\n",
        "\n",
        "}\n",
        "\n",
        "\n",
        "clf = Pipeline(\n",
        "    steps=[(\"preprocessor\", preprocessor), (\"classifier\", LogisticRegression())]\n",
        ")\n",
        "\n",
        "inner = StratifiedKFold(n_splits=3, shuffle=True, random_state=42)\n",
        "search_cv = GridSearchCV(\n",
        "    clf, param_grid,\n",
        "    cv=inner,\n",
        "    scoring=\"balanced_accuracy\"\n",
        ")\n",
        "\n",
        "start_time = time.time()\n",
        "search_cv.fit(X_train, y_train)\n",
        "end_time = time.time()\n",
        "\n",
        "training_time = end_time - start_time\n",
        "print(f\"Tiempo de entrenamiento: {training_time:.4f} segundos\")\n",
        "print(\"Mejores Parametros:\")\n",
        "print(search_cv.best_params_)"
      ],
      "metadata": {
        "id": "2XRqbGd11dNR",
        "outputId": "dc8f8fd6-fa08-4d98-9d58-29a5d988a6c6",
        "colab": {
          "base_uri": "https://localhost:8080/"
        }
      },
      "execution_count": 16,
      "outputs": [
        {
          "output_type": "stream",
          "name": "stdout",
          "text": [
            "Tiempo de entrenamiento: 1.0882 segundos\n",
            "Mejores Parametros:\n",
            "{'preprocessor__num__imputer__strategy': 'mean', 'preprocessor__num__scaler': StandardScaler()}\n"
          ]
        }
      ]
    },
    {
      "cell_type": "markdown",
      "source": [
        "Calculamos las metricas"
      ],
      "metadata": {
        "id": "HaRwh2dL5L2C"
      }
    },
    {
      "cell_type": "code",
      "source": [
        "y_pred = search_cv.best_estimator_.predict(X_test)\n",
        "balanced_acc = balanced_accuracy_score(y_test, y_pred)\n",
        "accuracy = accuracy_score(y_test, y_pred)\n",
        "cm = confusion_matrix(y_test, y_pred)\n",
        "\n",
        "TN, FP, FN, TP = cm.ravel()\n",
        "TPR = TP / (TP + FN)  # Sensibilidad (recall positivo)\n",
        "TNR = TN / (TN + FP)  # Especificidad (recall negativo)\n",
        "\n",
        "\n",
        "print(f\"Balanced Accuracy: {balanced_acc:.4f}\")\n",
        "print(f\"Accuracy: {accuracy:.4f}\")\n",
        "print(f\"TPR (Sensibilidad / Recall Positivo): {TPR:.4f}\")\n",
        "print(f\"TNR (Especificidad / Recall Negativo): {TNR:.4f}\")"
      ],
      "metadata": {
        "id": "b1AmUHVQ5OcN",
        "outputId": "8085af92-2a1b-4fcc-e165-fbe3a4461852",
        "colab": {
          "base_uri": "https://localhost:8080/"
        }
      },
      "execution_count": 17,
      "outputs": [
        {
          "output_type": "stream",
          "name": "stdout",
          "text": [
            "Balanced Accuracy: 0.6244\n",
            "Accuracy: 0.8588\n",
            "TPR (Sensibilidad / Recall Positivo): 0.2774\n",
            "TNR (Especificidad / Recall Negativo): 0.9713\n"
          ]
        }
      ]
    },
    {
      "cell_type": "markdown",
      "source": [
        "SVM lineal\n"
      ],
      "metadata": {
        "id": "EKlx9tMK5EE0"
      }
    },
    {
      "cell_type": "code",
      "source": [
        "from sklearn.model_selection import GridSearchCV\n",
        "from sklearn.svm import LinearSVC\n",
        "from sklearn.linear_model import LogisticRegression\n",
        "\n",
        "import time\n",
        "# Search space\n",
        "# rango de valores de hiperparametros que el metodo grid search CV va a probar\n",
        "preprocessor = ColumnTransformer([\n",
        "    (\"num\", Pipeline([\n",
        "        (\"imputer\", SimpleImputer(strategy=\"median\")),  # Imputación para numéricas\n",
        "        (\"scaler\", StandardScaler())  # Escalado de datos numéricos\n",
        "    ]), columnas_numericas),\n",
        "\n",
        "    (\"cat\", Pipeline([\n",
        "        (\"imputer\", SimpleImputer(strategy=\"most_frequent\")),  # Imputación para categóricas\n",
        "        (\"encoder\", OneHotEncoder(handle_unknown=\"ignore\"))  # OneHot para variables categóricas\n",
        "    ]), columnas_categoricas),\n",
        "\n",
        "    (\"ord\", Pipeline([\n",
        "        (\"imputer\", SimpleImputer(strategy=\"most_frequent\")),  # Imputación para ordinales\n",
        "        (\"encoder\", OrdinalEncoder(handle_unknown=\"use_encoded_value\", unknown_value=-1))  # OrdinalEncoder para categorías ordenadas\n",
        "    ]), columnas_ordinales)\n",
        "])\n",
        "\n",
        "param_grid = {\n",
        "    \"preprocessor__num__imputer__strategy\": [\"mean\", \"median\"],\n",
        "    \"preprocessor__num__scaler\": [StandardScaler(), MinMaxScaler(), RobustScaler()],\n",
        "    \"classifier__C\": [0.001, 0.01, 0.1, 1, 10, 100],\n",
        "    \"classifier__class_weight\": [None, \"balanced\"]\n",
        "}\n",
        "\n",
        "\n",
        "clf = Pipeline(\n",
        "    steps=[(\"preprocessor\", preprocessor), (\"classifier\", LinearSVC(dual=False, max_iter=1000))]\n",
        ")\n",
        "\n",
        "inner = StratifiedKFold(n_splits=3, shuffle=True, random_state=42)\n",
        "search_cv = GridSearchCV(\n",
        "    clf, param_grid,\n",
        "    cv=inner,\n",
        "    scoring=\"balanced_accuracy\"\n",
        ")\n",
        "\n",
        "start_time = time.time()\n",
        "search_cv.fit(X_train, y_train)\n",
        "end_time = time.time()\n",
        "\n",
        "training_time = end_time - start_time\n",
        "print(f\"Tiempo de entrenamiento: {training_time:.4f} segundos\")\n",
        "print(\"Mejores Parametros:\")\n",
        "print(search_cv.best_params_)"
      ],
      "metadata": {
        "id": "-1rTrhLaE217",
        "outputId": "8964f61e-5b8e-4496-c6cd-7e312a15fe4a",
        "colab": {
          "base_uri": "https://localhost:8080/"
        }
      },
      "execution_count": 18,
      "outputs": [
        {
          "output_type": "stream",
          "name": "stdout",
          "text": [
            "Tiempo de entrenamiento: 10.9792 segundos\n",
            "Mejores Parametros:\n",
            "{'classifier__C': 0.1, 'classifier__class_weight': 'balanced', 'preprocessor__num__imputer__strategy': 'mean', 'preprocessor__num__scaler': StandardScaler()}\n"
          ]
        }
      ]
    },
    {
      "cell_type": "code",
      "source": [
        "y_pred = search_cv.best_estimator_.predict(X_test)\n",
        "balanced_acc = balanced_accuracy_score(y_test, y_pred)\n",
        "accuracy = accuracy_score(y_test, y_pred)\n",
        "cm = confusion_matrix(y_test, y_pred)\n",
        "\n",
        "TN, FP, FN, TP = cm.ravel()\n",
        "TPR = TP / (TP + FN)  # Sensibilidad (recall positivo)\n",
        "TNR = TN / (TN + FP)  # Especificidad (recall negativo)\n",
        "\n",
        "\n",
        "print(f\"Balanced Accuracy: {balanced_acc:.4f}\")\n",
        "print(f\"Accuracy: {accuracy:.4f}\")\n",
        "print(f\"TPR (Sensibilidad / Recall Positivo): {TPR:.4f}\")\n",
        "print(f\"TNR (Especificidad / Recall Negativo): {TNR:.4f}\")"
      ],
      "metadata": {
        "id": "Hn_cPTt25V-d",
        "outputId": "a917f9fe-1002-4a3b-9e76-322b6cf044b4",
        "colab": {
          "base_uri": "https://localhost:8080/"
        }
      },
      "execution_count": 19,
      "outputs": [
        {
          "output_type": "stream",
          "name": "stdout",
          "text": [
            "Balanced Accuracy: 0.7303\n",
            "Accuracy: 0.7312\n",
            "TPR (Sensibilidad / Recall Positivo): 0.7290\n",
            "TNR (Especificidad / Recall Negativo): 0.7316\n"
          ]
        }
      ]
    },
    {
      "cell_type": "markdown",
      "source": [
        "# RNA"
      ],
      "metadata": {
        "id": "tZ0iq6N3082Q"
      }
    },
    {
      "cell_type": "code",
      "source": [
        "from sklearn.model_selection import GridSearchCV\n",
        "from sklearn.neural_network import MLPClassifier\n",
        "import time\n",
        "# Search space\n",
        "# rango de valores de hiperparametros que el metodo grid search CV va a probar\n",
        "preprocessor = ColumnTransformer([\n",
        "    (\"num\", Pipeline([\n",
        "        (\"imputer\", SimpleImputer(strategy=\"median\")),  # Imputación para numéricas\n",
        "        (\"scaler\", StandardScaler())  # Escalado de datos numéricos\n",
        "    ]), columnas_numericas),\n",
        "\n",
        "    (\"cat\", Pipeline([\n",
        "        (\"imputer\", SimpleImputer(strategy=\"most_frequent\")),  # Imputación para categóricas\n",
        "        (\"encoder\", OneHotEncoder(handle_unknown=\"ignore\"))  # OneHot para variables categóricas\n",
        "    ]), columnas_categoricas),\n",
        "\n",
        "    (\"ord\", Pipeline([\n",
        "        (\"imputer\", SimpleImputer(strategy=\"most_frequent\")),  # Imputación para ordinales\n",
        "        (\"encoder\", OrdinalEncoder(handle_unknown=\"use_encoded_value\", unknown_value=-1))  # OrdinalEncoder para categorías ordenadas\n",
        "    ]), columnas_ordinales)\n",
        "])\n",
        "\n",
        "param_grid = {\n",
        "    \"preprocessor__num__imputer__strategy\": [\"mean\", \"median\"],\n",
        "    \"preprocessor__num__scaler\": [StandardScaler(), MinMaxScaler(), RobustScaler()],\n",
        "    \"classifier__hidden_layer_sizes\": [(50,), (100,), (50, 50), (100, 100)],\n",
        "    #\"classifier__learning_rate_init\": [0.001, 0.01, 0.1],\n",
        "    \"classifier__alpha\": [0.0001, 0.001, 0.01]\n",
        "}\n",
        "\n",
        "clf = Pipeline(\n",
        "    steps=[(\"preprocessor\", preprocessor), (\"classifier\", MLPClassifier(early_stopping=True, learning_rate_init=0.001, max_iter=500, solver='adam'))]\n",
        ")\n",
        "\n",
        "inner = StratifiedKFold(n_splits=3, shuffle=True, random_state=42)\n",
        "search_cv = GridSearchCV(\n",
        "    clf, param_grid,\n",
        "    cv=inner,\n",
        "    scoring=\"balanced_accuracy\"\n",
        ")\n",
        "\n",
        "start_time = time.time()\n",
        "search_cv.fit(X_train, y_train)\n",
        "end_time = time.time()\n",
        "\n",
        "training_time = end_time - start_time\n",
        "print(f\"Tiempo de entrenamiento: {training_time:.4f} segundos\")\n",
        "print(\"Best params:\")\n",
        "print(search_cv.best_params_)"
      ],
      "metadata": {
        "id": "rwsQG8IH1UUS",
        "outputId": "fa85cdad-8a9c-472b-d6d6-7103e1da1058",
        "colab": {
          "base_uri": "https://localhost:8080/"
        }
      },
      "execution_count": 22,
      "outputs": [
        {
          "output_type": "stream",
          "name": "stdout",
          "text": [
            "Tiempo de entrenamiento: 49.3795 segundos\n",
            "Best params:\n",
            "{'classifier__alpha': 0.001, 'classifier__hidden_layer_sizes': (100, 100), 'preprocessor__num__imputer__strategy': 'mean', 'preprocessor__num__scaler': RobustScaler()}\n"
          ]
        }
      ]
    },
    {
      "cell_type": "markdown",
      "source": [
        "Efecto del numero de capas ocultas y neuronas en el modelo final"
      ],
      "metadata": {
        "id": "L929Ukpk5GTc"
      }
    },
    {
      "cell_type": "code",
      "source": [],
      "metadata": {
        "id": "O3vQsE1L5GH3"
      },
      "execution_count": null,
      "outputs": []
    },
    {
      "cell_type": "markdown",
      "source": [
        "Calculamos las metricas del mejor modelo"
      ],
      "metadata": {
        "id": "yLkxRngi5C7k"
      }
    },
    {
      "cell_type": "code",
      "source": [
        "y_pred = search_cv.best_estimator_.predict(X_test)\n",
        "balanced_acc = balanced_accuracy_score(y_test, y_pred)\n",
        "accuracy = accuracy_score(y_test, y_pred)\n",
        "cm = confusion_matrix(y_test, y_pred)\n",
        "\n",
        "TN, FP, FN, TP = cm.ravel()\n",
        "TPR = TP / (TP + FN)  # Sensibilidad (recall positivo)\n",
        "TNR = TN / (TN + FP)  # Especificidad (recall negativo)\n",
        "\n",
        "\n",
        "print(f\"Balanced Accuracy: {balanced_acc:.4f}\")\n",
        "print(f\"Accuracy: {accuracy:.4f}\")\n",
        "print(f\"TPR (Sensibilidad / Recall Positivo): {TPR:.4f}\")\n",
        "print(f\"TNR (Especificidad / Recall Negativo): {TNR:.4f}\")"
      ],
      "metadata": {
        "id": "S3fvf5cZ5eeD",
        "outputId": "08eb693c-7fbc-4411-a6fe-9703e755b169",
        "colab": {
          "base_uri": "https://localhost:8080/"
        }
      },
      "execution_count": 23,
      "outputs": [
        {
          "output_type": "stream",
          "name": "stdout",
          "text": [
            "Balanced Accuracy: 0.8753\n",
            "Accuracy: 0.9393\n",
            "TPR (Sensibilidad / Recall Positivo): 0.7806\n",
            "TNR (Especificidad / Recall Negativo): 0.9700\n"
          ]
        }
      ]
    },
    {
      "cell_type": "markdown",
      "source": [
        "# Resultados"
      ],
      "metadata": {
        "id": "tvU1ZIWG1Xov"
      }
    },
    {
      "cell_type": "markdown",
      "source": [
        "mejor es  RNA > KNN > trees >> SVM > Lineal\n",
        "\n"
      ],
      "metadata": {
        "id": "uDRt_ydn7lGe"
      }
    },
    {
      "cell_type": "markdown",
      "source": [
        "Mejor modelo escogido, RNA."
      ],
      "metadata": {
        "id": "ApcqXThVuD9u"
      }
    },
    {
      "cell_type": "code",
      "source": [
        "import joblib\n",
        "best_model = search_cv.best_estimator_\n",
        "joblib.dump(best_model, \"best_model.pkl\")\n",
        "\n",
        "print (\"Modelos guardado como best_model.pkl\")"
      ],
      "metadata": {
        "id": "QvMEL79T7ka2"
      },
      "execution_count": null,
      "outputs": []
    }
  ]
}